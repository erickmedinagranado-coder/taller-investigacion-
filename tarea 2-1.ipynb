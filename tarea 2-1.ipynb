{
 "cells": [
  {
   "cell_type": "code",
   "execution_count": 1,
   "id": "6a9ea8de",
   "metadata": {},
   "outputs": [
    {
     "name": "stdout",
     "output_type": "stream",
     "text": [
      "Salida de la neurona: -1.31\n"
     ]
    }
   ],
   "source": [
    "import numpy as np\n",
    "\n",
    "def forward_propagation(x, w, b):\n",
    "    \n",
    "    y = np.dot(w, x) + b \n",
    "    return y\n",
    "\n",
    "\n",
    "x = np.array([1.9, 3.8])   \n",
    "w = np.array([2.5, -1.7])  \n",
    "b = 0.4                    \n",
    "\n",
    "salida = forward_propagation(x, w, b)\n",
    "print(\"Salida de la neurona:\", salida)\n"
   ]
  }
 ],
 "metadata": {
  "kernelspec": {
   "display_name": "Python 3",
   "language": "python",
   "name": "python3"
  },
  "language_info": {
   "codemirror_mode": {
    "name": "ipython",
    "version": 3
   },
   "file_extension": ".py",
   "mimetype": "text/x-python",
   "name": "python",
   "nbconvert_exporter": "python",
   "pygments_lexer": "ipython3",
   "version": "3.11.9"
  }
 },
 "nbformat": 4,
 "nbformat_minor": 5
}
