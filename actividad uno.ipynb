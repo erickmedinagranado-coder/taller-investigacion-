{
 "cells": [
  {
   "cell_type": "code",
   "execution_count": 33,
   "id": "4c7a9657",
   "metadata": {},
   "outputs": [
    {
     "name": "stdout",
     "output_type": "stream",
     "text": [
      "prediccion inicial: 0.3980541268966352\n",
      "Imagen 1: Probabilidad de gato = 1.0000\n",
      "Imagen 2: Probabilidad de gato = 0.9997\n",
      "Imagen 3: Probabilidad de gato = 0.0000\n"
     ]
    }
   ],
   "source": [
    "import numpy as np\n",
    "from PIL import Image\n",
    "\n",
    "def sigma(z):\n",
    "    return 1 / (1 + np.exp(-z))\n",
    "\n",
    "def forward_propagation(x, w, b):\n",
    "    \n",
    "    z = np.dot(w, x) + b   \n",
    "    a = sigma(z)\n",
    "    return a\n",
    "def backward_propagation(x, y, a, w, b, ta):\n",
    "    dz = a - y          \n",
    "    dw = x * dz              \n",
    "    db = dz\n",
    "\n",
    "    w = w - ta * dw\n",
    "    b = b - ta * db\n",
    "    return w, b      \n",
    "\n",
    "def preprocess_image(path, size=(64,64)):\n",
    "    img = Image.open(path).convert(\"L\")  \n",
    "    img = img.resize(size)               \n",
    "    x = np.array(img).reshape(-1) / 255.0  \n",
    "    return x      \n",
    "\n",
    "x1 = preprocess_image(\"gato 1.jpg\")\n",
    "x2 = preprocess_image(\"gato 2.jpg\") \n",
    "x3 = preprocess_image(\"perro1.jpg\")\n",
    "\n",
    "\n",
    "X = np.array([x1, x2, x3])\n",
    "Y = np.array([1, 1, 0])\n",
    "\n",
    "w = np.random.randn(X.shape[1]) * 0.01  \n",
    "b = 0.4  \n",
    "ta= 0.05  \n",
    "n = 10                \n",
    "\n",
    "salida = forward_propagation(x, w, b)\n",
    "print(\"prediccion inicial:\", salida)\n",
    "\n",
    "w, b = backward_propagation(x, y, salida, w, b, ta)\n",
    "\n",
    "for i in range(n):\n",
    "    for x, y in zip(X, Y):\n",
    "        salida = forward_propagation(x, w, b)\n",
    "        w, b = backward_propagation(x, y, salida, w, b, ta)\n",
    "\n",
    "for i, x in enumerate(X):\n",
    "    prob = forward_propagation(x, w, b)\n",
    "    print(f\"Imagen {i+1}: Probabilidad de gato = {prob:.4f}\")"
   ]
  }
 ],
 "metadata": {
  "kernelspec": {
   "display_name": "Python 3",
   "language": "python",
   "name": "python3"
  },
  "language_info": {
   "codemirror_mode": {
    "name": "ipython",
    "version": 3
   },
   "file_extension": ".py",
   "mimetype": "text/x-python",
   "name": "python",
   "nbconvert_exporter": "python",
   "pygments_lexer": "ipython3",
   "version": "3.11.9"
  }
 },
 "nbformat": 4,
 "nbformat_minor": 5
}
