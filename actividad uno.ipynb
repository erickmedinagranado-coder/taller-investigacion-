{
 "cells": [
  {
   "cell_type": "code",
   "execution_count": 10,
   "id": "4c7a9657",
   "metadata": {},
   "outputs": [
    {
     "name": "stdout",
     "output_type": "stream",
     "text": [
      "prediccion inicial: 0.21248684412253915\n",
      "Pesos actualizados: [ 2.57481375 -1.5503725 ]\n",
      "Bias actualizado: 0.43937565779387305\n"
     ]
    }
   ],
   "source": [
    "import numpy as np\n",
    "\n",
    "def sigma(y):\n",
    "    return 1 / (1 + np.exp(-y))\n",
    "\n",
    "def forward_propagation(x, w, b):\n",
    "    \n",
    "    y = np.dot(w, x) + b   \n",
    "    a = sigma(y)\n",
    "    return a\n",
    "def backward_propagation(x, y_true, a, w, b, ta):\n",
    "    dz = a - y_true          \n",
    "    dw = x * dz              \n",
    "    db = dz\n",
    "\n",
    "    w = w - ta * dw\n",
    "    b = b - ta * db\n",
    "    return w, b                  \n",
    "\n",
    "x = np.array([1.9, 3.8])   \n",
    "y_true=1\n",
    "w = np.array([2.5, -1.7])  \n",
    "b = 0.4  \n",
    "ta= 0.05                  \n",
    "\n",
    "salida = forward_propagation(x, w, b)\n",
    "print(\"prediccion inicial:\", salida)\n",
    "\n",
    "w, b = backward_propagation(x, y_true, a, w, b, ta)\n",
    "\n",
    "print(\"Pesos actualizados:\", w)\n",
    "print(\"Bias actualizado:\", b)"
   ]
  }
 ],
 "metadata": {
  "kernelspec": {
   "display_name": "Python 3",
   "language": "python",
   "name": "python3"
  },
  "language_info": {
   "codemirror_mode": {
    "name": "ipython",
    "version": 3
   },
   "file_extension": ".py",
   "mimetype": "text/x-python",
   "name": "python",
   "nbconvert_exporter": "python",
   "pygments_lexer": "ipython3",
   "version": "3.11.9"
  }
 },
 "nbformat": 4,
 "nbformat_minor": 5
}
